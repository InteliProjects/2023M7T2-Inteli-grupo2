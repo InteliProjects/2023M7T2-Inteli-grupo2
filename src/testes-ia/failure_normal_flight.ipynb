{
 "cells": [
  {
   "cell_type": "markdown",
   "metadata": {},
   "source": [
    "### Análise de falhas em amostra de voos de uma aeronave\n",
    "\n",
    "O notebook apresenta uma análise relativa ao disparo de falhas no Sistema de Bleed de uma aeronave. Na análise abaixo, somente foram considerados arquivos cuja aeronave apresentou todas as fases de voo. O objetivo é identificar se existe alguma relação entre a fase de voo e o disparo de falhas no Sistema de Bleed, visto que, inicialmente, as falhas parecem estar concentradas em arquivos cuja aeronave apresenta uma única fase de voo."
   ]
  },
  {
   "cell_type": "code",
   "execution_count": 129,
   "metadata": {},
   "outputs": [],
   "source": [
    "import pandas as pd\n",
    "import matplotlib.pyplot as plt\n",
    "import os"
   ]
  },
  {
   "cell_type": "code",
   "execution_count": 130,
   "metadata": {},
   "outputs": [],
   "source": [
    "df = None\n",
    "folder = \"./data\"\n",
    "archives = [arq for arq in os.listdir(folder) if arq.endswith('.parquet')]\n",
    "columns = ['message0418DAA-1', 'message0422DAA-1', 'phaseOfFlight-1']"
   ]
  },
  {
   "cell_type": "markdown",
   "metadata": {},
   "source": [
    "Abaixo, encontra-se a lógica utilizada para filtrar os arquivos que compõem o novo dataframe. São considerados os seguintes atributos: as variáveis-alvo ('message0418DAA-1' e 'message0418DAA-2') e a fase de voo ('flight_phase')."
   ]
  },
  {
   "cell_type": "code",
   "execution_count": 131,
   "metadata": {},
   "outputs": [],
   "source": [
    "contador = 0\n",
    "for archive in archives:\n",
    "    voo_normal = True\n",
    "    path_archive = os.path.join(folder, archive)\n",
    "    df_temp = pd.read_parquet(path_archive, columns=columns)\n",
    "    df_temp['flight'] = archive\n",
    "    df_temp['message0418DAA-1'] = df_temp['message0418DAA-1'].astype('Int8')\n",
    "    df_temp['message0422DAA-1'] = df_temp['message0422DAA-1'].astype('Int8')\n",
    "    df_temp['phaseOfFlight-1'] = df_temp['phaseOfFlight-1'].astype('Int8')\n",
    "    df_temp.fillna(method='ffill', inplace=True)\n",
    "    df_temp.fillna(method='bfill', inplace=True)\n",
    "\n",
    "    if df is None:\n",
    "        df = df_temp\n",
    "    else:\n",
    "        df = pd.concat([df, df_temp])\n",
    "    df_temp = None\n",
    "    contador += 1\n",
    "    if contador % 163 == 0:\n",
    "        break"
   ]
  },
  {
   "cell_type": "markdown",
   "metadata": {},
   "source": [
    "Posteriormente, é adotado o método Forward Fill, a fim de preencher os valores nulos com o último valor válido entre os registros existentes. Essa decisão justifica-se pelo fato de que, embora alguns registros apresentassem valor nulo em determinado atributo, os demais atributos apresentavam valores válidos."
   ]
  },
  {
   "cell_type": "code",
   "execution_count": 132,
   "metadata": {},
   "outputs": [
    {
     "data": {
      "text/html": [
       "<div>\n",
       "<style scoped>\n",
       "    .dataframe tbody tr th:only-of-type {\n",
       "        vertical-align: middle;\n",
       "    }\n",
       "\n",
       "    .dataframe tbody tr th {\n",
       "        vertical-align: top;\n",
       "    }\n",
       "\n",
       "    .dataframe thead th {\n",
       "        text-align: right;\n",
       "    }\n",
       "</style>\n",
       "<table border=\"1\" class=\"dataframe\">\n",
       "  <thead>\n",
       "    <tr style=\"text-align: right;\">\n",
       "      <th></th>\n",
       "      <th>message0418DAA-1</th>\n",
       "      <th>message0422DAA-1</th>\n",
       "      <th>phaseOfFlight-1</th>\n",
       "      <th>flight</th>\n",
       "    </tr>\n",
       "  </thead>\n",
       "  <tbody>\n",
       "    <tr>\n",
       "      <th>0</th>\n",
       "      <td>0</td>\n",
       "      <td>0</td>\n",
       "      <td>0</td>\n",
       "      <td>TCRF_ARCHIVE_06120018_20220523142237.parquet</td>\n",
       "    </tr>\n",
       "    <tr>\n",
       "      <th>1</th>\n",
       "      <td>0</td>\n",
       "      <td>0</td>\n",
       "      <td>0</td>\n",
       "      <td>TCRF_ARCHIVE_06120018_20220523142237.parquet</td>\n",
       "    </tr>\n",
       "    <tr>\n",
       "      <th>2</th>\n",
       "      <td>0</td>\n",
       "      <td>0</td>\n",
       "      <td>0</td>\n",
       "      <td>TCRF_ARCHIVE_06120018_20220523142237.parquet</td>\n",
       "    </tr>\n",
       "    <tr>\n",
       "      <th>3</th>\n",
       "      <td>0</td>\n",
       "      <td>0</td>\n",
       "      <td>0</td>\n",
       "      <td>TCRF_ARCHIVE_06120018_20220523142237.parquet</td>\n",
       "    </tr>\n",
       "    <tr>\n",
       "      <th>4</th>\n",
       "      <td>0</td>\n",
       "      <td>0</td>\n",
       "      <td>0</td>\n",
       "      <td>TCRF_ARCHIVE_06120018_20220523142237.parquet</td>\n",
       "    </tr>\n",
       "    <tr>\n",
       "      <th>...</th>\n",
       "      <td>...</td>\n",
       "      <td>...</td>\n",
       "      <td>...</td>\n",
       "      <td>...</td>\n",
       "    </tr>\n",
       "    <tr>\n",
       "      <th>23056</th>\n",
       "      <td>0</td>\n",
       "      <td>0</td>\n",
       "      <td>0</td>\n",
       "      <td>TCRF_ARCHIVE_06120018_20220618231001.parquet</td>\n",
       "    </tr>\n",
       "    <tr>\n",
       "      <th>23057</th>\n",
       "      <td>0</td>\n",
       "      <td>0</td>\n",
       "      <td>0</td>\n",
       "      <td>TCRF_ARCHIVE_06120018_20220618231001.parquet</td>\n",
       "    </tr>\n",
       "    <tr>\n",
       "      <th>23058</th>\n",
       "      <td>0</td>\n",
       "      <td>0</td>\n",
       "      <td>0</td>\n",
       "      <td>TCRF_ARCHIVE_06120018_20220618231001.parquet</td>\n",
       "    </tr>\n",
       "    <tr>\n",
       "      <th>23059</th>\n",
       "      <td>0</td>\n",
       "      <td>0</td>\n",
       "      <td>0</td>\n",
       "      <td>TCRF_ARCHIVE_06120018_20220618231001.parquet</td>\n",
       "    </tr>\n",
       "    <tr>\n",
       "      <th>23060</th>\n",
       "      <td>0</td>\n",
       "      <td>0</td>\n",
       "      <td>0</td>\n",
       "      <td>TCRF_ARCHIVE_06120018_20220618231001.parquet</td>\n",
       "    </tr>\n",
       "  </tbody>\n",
       "</table>\n",
       "<p>19572379 rows × 4 columns</p>\n",
       "</div>"
      ],
      "text/plain": [
       "       message0418DAA-1  message0422DAA-1  phaseOfFlight-1   \n",
       "0                     0                 0                0  \\\n",
       "1                     0                 0                0   \n",
       "2                     0                 0                0   \n",
       "3                     0                 0                0   \n",
       "4                     0                 0                0   \n",
       "...                 ...               ...              ...   \n",
       "23056                 0                 0                0   \n",
       "23057                 0                 0                0   \n",
       "23058                 0                 0                0   \n",
       "23059                 0                 0                0   \n",
       "23060                 0                 0                0   \n",
       "\n",
       "                                             flight  \n",
       "0      TCRF_ARCHIVE_06120018_20220523142237.parquet  \n",
       "1      TCRF_ARCHIVE_06120018_20220523142237.parquet  \n",
       "2      TCRF_ARCHIVE_06120018_20220523142237.parquet  \n",
       "3      TCRF_ARCHIVE_06120018_20220523142237.parquet  \n",
       "4      TCRF_ARCHIVE_06120018_20220523142237.parquet  \n",
       "...                                             ...  \n",
       "23056  TCRF_ARCHIVE_06120018_20220618231001.parquet  \n",
       "23057  TCRF_ARCHIVE_06120018_20220618231001.parquet  \n",
       "23058  TCRF_ARCHIVE_06120018_20220618231001.parquet  \n",
       "23059  TCRF_ARCHIVE_06120018_20220618231001.parquet  \n",
       "23060  TCRF_ARCHIVE_06120018_20220618231001.parquet  \n",
       "\n",
       "[19572379 rows x 4 columns]"
      ]
     },
     "execution_count": 132,
     "metadata": {},
     "output_type": "execute_result"
    }
   ],
   "source": [
    "df.fillna(method='ffill', inplace=True)\n",
    "df.fillna(method='bfill', inplace=True)\n",
    "df"
   ]
  },
  {
   "cell_type": "code",
   "execution_count": 133,
   "metadata": {},
   "outputs": [
    {
     "data": {
      "text/plain": [
       "163"
      ]
     },
     "execution_count": 133,
     "metadata": {},
     "output_type": "execute_result"
    }
   ],
   "source": [
    "df[\"flight\"].nunique()"
   ]
  },
  {
   "cell_type": "code",
   "execution_count": 134,
   "metadata": {},
   "outputs": [
    {
     "data": {
      "text/plain": [
       "phaseOfFlight-1\n",
       "1    8012800\n",
       "0    6882133\n",
       "2    4677446\n",
       "Name: count, dtype: Int64"
      ]
     },
     "execution_count": 134,
     "metadata": {},
     "output_type": "execute_result"
    }
   ],
   "source": [
    "df[\"phaseOfFlight-1\"].value_counts()"
   ]
  },
  {
   "cell_type": "code",
   "execution_count": 135,
   "metadata": {},
   "outputs": [
    {
     "data": {
      "text/html": [
       "<div>\n",
       "<style scoped>\n",
       "    .dataframe tbody tr th:only-of-type {\n",
       "        vertical-align: middle;\n",
       "    }\n",
       "\n",
       "    .dataframe tbody tr th {\n",
       "        vertical-align: top;\n",
       "    }\n",
       "\n",
       "    .dataframe thead th {\n",
       "        text-align: right;\n",
       "    }\n",
       "</style>\n",
       "<table border=\"1\" class=\"dataframe\">\n",
       "  <thead>\n",
       "    <tr style=\"text-align: right;\">\n",
       "      <th></th>\n",
       "      <th>message0418DAA-1</th>\n",
       "      <th>message0422DAA-1</th>\n",
       "      <th>phaseOfFlight-1</th>\n",
       "      <th>flight</th>\n",
       "    </tr>\n",
       "  </thead>\n",
       "  <tbody>\n",
       "    <tr>\n",
       "      <th>0</th>\n",
       "      <td>0</td>\n",
       "      <td>0</td>\n",
       "      <td>0</td>\n",
       "      <td>TCRF_ARCHIVE_06120018_20220523142237.parquet</td>\n",
       "    </tr>\n",
       "    <tr>\n",
       "      <th>1</th>\n",
       "      <td>0</td>\n",
       "      <td>0</td>\n",
       "      <td>0</td>\n",
       "      <td>TCRF_ARCHIVE_06120018_20220523142237.parquet</td>\n",
       "    </tr>\n",
       "    <tr>\n",
       "      <th>2</th>\n",
       "      <td>0</td>\n",
       "      <td>0</td>\n",
       "      <td>0</td>\n",
       "      <td>TCRF_ARCHIVE_06120018_20220523142237.parquet</td>\n",
       "    </tr>\n",
       "    <tr>\n",
       "      <th>3</th>\n",
       "      <td>0</td>\n",
       "      <td>0</td>\n",
       "      <td>0</td>\n",
       "      <td>TCRF_ARCHIVE_06120018_20220523142237.parquet</td>\n",
       "    </tr>\n",
       "    <tr>\n",
       "      <th>4</th>\n",
       "      <td>0</td>\n",
       "      <td>0</td>\n",
       "      <td>0</td>\n",
       "      <td>TCRF_ARCHIVE_06120018_20220523142237.parquet</td>\n",
       "    </tr>\n",
       "  </tbody>\n",
       "</table>\n",
       "</div>"
      ],
      "text/plain": [
       "   message0418DAA-1  message0422DAA-1  phaseOfFlight-1   \n",
       "0                 0                 0                0  \\\n",
       "1                 0                 0                0   \n",
       "2                 0                 0                0   \n",
       "3                 0                 0                0   \n",
       "4                 0                 0                0   \n",
       "\n",
       "                                         flight  \n",
       "0  TCRF_ARCHIVE_06120018_20220523142237.parquet  \n",
       "1  TCRF_ARCHIVE_06120018_20220523142237.parquet  \n",
       "2  TCRF_ARCHIVE_06120018_20220523142237.parquet  \n",
       "3  TCRF_ARCHIVE_06120018_20220523142237.parquet  \n",
       "4  TCRF_ARCHIVE_06120018_20220523142237.parquet  "
      ]
     },
     "execution_count": 135,
     "metadata": {},
     "output_type": "execute_result"
    }
   ],
   "source": [
    "df.head()"
   ]
  },
  {
   "cell_type": "code",
   "execution_count": 136,
   "metadata": {},
   "outputs": [
    {
     "data": {
      "text/plain": [
       "message0418DAA-1    0\n",
       "message0422DAA-1    0\n",
       "phaseOfFlight-1     0\n",
       "flight              0\n",
       "dtype: int64"
      ]
     },
     "execution_count": 136,
     "metadata": {},
     "output_type": "execute_result"
    }
   ],
   "source": [
    "df.isna().sum()"
   ]
  },
  {
   "cell_type": "markdown",
   "metadata": {},
   "source": [
    "Abaixo, é realizada a contagem de disparos de mensagem de erro no dataset formado. Além disso, ocorre uma comparação entre cada variável-alvo e entre cada valor que tais atributos podem apresentar. No caso das variáveis-alvo, foram identificados os valores '0', '5' e '7', e suas quantidades variam a depender de cada variável."
   ]
  },
  {
   "cell_type": "code",
   "execution_count": 137,
   "metadata": {},
   "outputs": [
    {
     "data": {
      "text/plain": [
       "message0422DAA-1\n",
       "0    19572379\n",
       "Name: count, dtype: Int64"
      ]
     },
     "execution_count": 137,
     "metadata": {},
     "output_type": "execute_result"
    }
   ],
   "source": [
    "df[\"message0422DAA-1\"].value_counts()"
   ]
  },
  {
   "cell_type": "code",
   "execution_count": 138,
   "metadata": {},
   "outputs": [
    {
     "data": {
      "text/plain": [
       "message0418DAA-1\n",
       "0    19568258\n",
       "7        3921\n",
       "5         200\n",
       "Name: count, dtype: Int64"
      ]
     },
     "execution_count": 138,
     "metadata": {},
     "output_type": "execute_result"
    }
   ],
   "source": [
    "df[\"message0418DAA-1\"].value_counts()"
   ]
  },
  {
   "cell_type": "code",
   "execution_count": 139,
   "metadata": {},
   "outputs": [
    {
     "data": {
      "text/html": [
       "<div>\n",
       "<style scoped>\n",
       "    .dataframe tbody tr th:only-of-type {\n",
       "        vertical-align: middle;\n",
       "    }\n",
       "\n",
       "    .dataframe tbody tr th {\n",
       "        vertical-align: top;\n",
       "    }\n",
       "\n",
       "    .dataframe thead th {\n",
       "        text-align: right;\n",
       "    }\n",
       "</style>\n",
       "<table border=\"1\" class=\"dataframe\">\n",
       "  <thead>\n",
       "    <tr style=\"text-align: right;\">\n",
       "      <th></th>\n",
       "      <th>message0418DAA-1</th>\n",
       "      <th>message0422DAA-1</th>\n",
       "      <th>phaseOfFlight-1</th>\n",
       "      <th>flight</th>\n",
       "    </tr>\n",
       "  </thead>\n",
       "  <tbody>\n",
       "  </tbody>\n",
       "</table>\n",
       "</div>"
      ],
      "text/plain": [
       "Empty DataFrame\n",
       "Columns: [message0418DAA-1, message0422DAA-1, phaseOfFlight-1, flight]\n",
       "Index: []"
      ]
     },
     "execution_count": 139,
     "metadata": {},
     "output_type": "execute_result"
    }
   ],
   "source": [
    "df[df['message0422DAA-1'] == 7]"
   ]
  },
  {
   "cell_type": "code",
   "execution_count": 140,
   "metadata": {},
   "outputs": [
    {
     "data": {
      "text/html": [
       "<div>\n",
       "<style scoped>\n",
       "    .dataframe tbody tr th:only-of-type {\n",
       "        vertical-align: middle;\n",
       "    }\n",
       "\n",
       "    .dataframe tbody tr th {\n",
       "        vertical-align: top;\n",
       "    }\n",
       "\n",
       "    .dataframe thead th {\n",
       "        text-align: right;\n",
       "    }\n",
       "</style>\n",
       "<table border=\"1\" class=\"dataframe\">\n",
       "  <thead>\n",
       "    <tr style=\"text-align: right;\">\n",
       "      <th></th>\n",
       "      <th>message0418DAA-1</th>\n",
       "      <th>message0422DAA-1</th>\n",
       "      <th>phaseOfFlight-1</th>\n",
       "      <th>flight</th>\n",
       "    </tr>\n",
       "  </thead>\n",
       "  <tbody>\n",
       "  </tbody>\n",
       "</table>\n",
       "</div>"
      ],
      "text/plain": [
       "Empty DataFrame\n",
       "Columns: [message0418DAA-1, message0422DAA-1, phaseOfFlight-1, flight]\n",
       "Index: []"
      ]
     },
     "execution_count": 140,
     "metadata": {},
     "output_type": "execute_result"
    }
   ],
   "source": [
    "df[df['message0422DAA-1'] == 5]"
   ]
  }
 ],
 "metadata": {
  "kernelspec": {
   "display_name": "Python 3",
   "language": "python",
   "name": "python3"
  },
  "language_info": {
   "codemirror_mode": {
    "name": "ipython",
    "version": 3
   },
   "file_extension": ".py",
   "mimetype": "text/x-python",
   "name": "python",
   "nbconvert_exporter": "python",
   "pygments_lexer": "ipython3",
   "version": "3.10.11"
  },
  "orig_nbformat": 4
 },
 "nbformat": 4,
 "nbformat_minor": 2
}
