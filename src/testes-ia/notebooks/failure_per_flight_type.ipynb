{
 "cells": [
  {
   "cell_type": "markdown",
   "metadata": {},
   "source": [
    "### Análise da proporção de mensagens de falha por tipo de voo\n",
    "\n",
    "Este notebook retrata a análise da proporção de incidência de falhas por tipo de voo. Nesse caso, a divisão de tipo de voo é feita da seguinte forma: parte dos arquivos de voo retratam voos sem inconsistências aparentes (isto é, apresentam as três fases de voo que uma aeronave realiza), enquanto os arquivos restantes apresentam uma inconsistência identificada (uma única fase de voo é registrada no arquivo)."
   ]
  },
  {
   "cell_type": "code",
   "execution_count": 9,
   "metadata": {},
   "outputs": [],
   "source": [
    "import pandas as pd \n",
    "import matplotlib.pyplot as plt\n",
    "import os"
   ]
  },
  {
   "cell_type": "code",
   "execution_count": 10,
   "metadata": {},
   "outputs": [],
   "source": [
    "df_falha = None\n",
    "df_normal = None\n",
    "folder = \"./data\"\n",
    "archives = [arq for arq in os.listdir(folder) if arq.endswith('.parquet')]\n",
    "columns = ['message0418DAA-1', 'message0422DAA-1', 'phaseOfFlight-1']"
   ]
  },
  {
   "cell_type": "code",
   "execution_count": 11,
   "metadata": {},
   "outputs": [],
   "source": [
    "for archive in archives:\n",
    "    voo_normal = True\n",
    "    path_archive = os.path.join(folder, archive)\n",
    "    df_temp = pd.read_parquet(path_archive, columns=columns)\n",
    "    df_temp['flight'] = archive\n",
    "    df_temp['message0418DAA-1'] = df_temp['message0418DAA-1'].astype('Int8')\n",
    "    df_temp['message0422DAA-1'] = df_temp['message0422DAA-1'].astype('Int8')\n",
    "    df_temp['phaseOfFlight-1'] = df_temp['phaseOfFlight-1'].astype('Int8')\n",
    "    df_temp.fillna(method='ffill', inplace=True)\n",
    "    df_temp.fillna(method='bfill', inplace=True)\n",
    "    estados_voo = df_temp['phaseOfFlight-1'].unique()\n",
    "    if len(estados_voo) == 1:\n",
    "        if df_falha is None:\n",
    "            df_falha = df_temp\n",
    "        else:\n",
    "            df_falha = pd.concat([df_falha, df_temp])\n",
    "    df_temp = None\n",
    "    estados_voo = None"
   ]
  },
  {
   "cell_type": "code",
   "execution_count": 12,
   "metadata": {},
   "outputs": [],
   "source": [
    "contador = 0\n",
    "for archive in archives:\n",
    "    voo_normal = True\n",
    "    path_archive = os.path.join(folder, archive)\n",
    "    df_temp = pd.read_parquet(path_archive, columns=columns)\n",
    "    df_temp['flight'] = archive\n",
    "    df_temp['message0418DAA-1'] = df_temp['message0418DAA-1'].astype('Int8')\n",
    "    df_temp['message0422DAA-1'] = df_temp['message0422DAA-1'].astype('Int8')\n",
    "    df_temp['phaseOfFlight-1'] = df_temp['phaseOfFlight-1'].astype('Int8')\n",
    "    df_temp.fillna(method='ffill', inplace=True)\n",
    "    df_temp.fillna(method='bfill', inplace=True)\n",
    "\n",
    "    if df_normal is None:\n",
    "        df_normal = df_temp\n",
    "    else:\n",
    "        df_normal = pd.concat([df_normal, df_temp])\n",
    "    df_temp = None\n",
    "    contador += 1\n",
    "    if contador % 163 == 0:\n",
    "        break"
   ]
  },
  {
   "cell_type": "code",
   "execution_count": 13,
   "metadata": {},
   "outputs": [],
   "source": [
    "df_falha.fillna(method='ffill', inplace=True)\n",
    "df_falha.fillna(method='bfill', inplace=True)\n",
    "df_normal.fillna(method='ffill', inplace=True)\n",
    "df_normal.fillna(method='bfill', inplace=True)"
   ]
  },
  {
   "cell_type": "code",
   "execution_count": 19,
   "metadata": {},
   "outputs": [
    {
     "name": "stdout",
     "output_type": "stream",
     "text": [
      "(19572379, 4)\n",
      "(2833869, 4)\n"
     ]
    }
   ],
   "source": [
    "print(df_normal.shape)\n",
    "print(df_falha.shape)"
   ]
  },
  {
   "cell_type": "code",
   "execution_count": 25,
   "metadata": {},
   "outputs": [
    {
     "data": {
      "text/plain": [
       "163"
      ]
     },
     "execution_count": 25,
     "metadata": {},
     "output_type": "execute_result"
    }
   ],
   "source": [
    "df_falha[\"flight\"].nunique()\n",
    "df_normal[\"flight\"].nunique()"
   ]
  },
  {
   "cell_type": "code",
   "execution_count": 26,
   "metadata": {},
   "outputs": [
    {
     "data": {
      "text/html": [
       "<div>\n",
       "<style scoped>\n",
       "    .dataframe tbody tr th:only-of-type {\n",
       "        vertical-align: middle;\n",
       "    }\n",
       "\n",
       "    .dataframe tbody tr th {\n",
       "        vertical-align: top;\n",
       "    }\n",
       "\n",
       "    .dataframe thead th {\n",
       "        text-align: right;\n",
       "    }\n",
       "</style>\n",
       "<table border=\"1\" class=\"dataframe\">\n",
       "  <thead>\n",
       "    <tr style=\"text-align: right;\">\n",
       "      <th></th>\n",
       "      <th>message0418DAA-1</th>\n",
       "      <th>message0422DAA-1</th>\n",
       "      <th>phaseOfFlight-1</th>\n",
       "      <th>flight</th>\n",
       "    </tr>\n",
       "  </thead>\n",
       "  <tbody>\n",
       "    <tr>\n",
       "      <th>0</th>\n",
       "      <td>0</td>\n",
       "      <td>0</td>\n",
       "      <td>0</td>\n",
       "      <td>TCRF_ARCHIVE_06120018_20220524155501.parquet</td>\n",
       "    </tr>\n",
       "    <tr>\n",
       "      <th>1</th>\n",
       "      <td>0</td>\n",
       "      <td>0</td>\n",
       "      <td>0</td>\n",
       "      <td>TCRF_ARCHIVE_06120018_20220524155501.parquet</td>\n",
       "    </tr>\n",
       "    <tr>\n",
       "      <th>2</th>\n",
       "      <td>0</td>\n",
       "      <td>0</td>\n",
       "      <td>0</td>\n",
       "      <td>TCRF_ARCHIVE_06120018_20220524155501.parquet</td>\n",
       "    </tr>\n",
       "    <tr>\n",
       "      <th>3</th>\n",
       "      <td>0</td>\n",
       "      <td>0</td>\n",
       "      <td>0</td>\n",
       "      <td>TCRF_ARCHIVE_06120018_20220524155501.parquet</td>\n",
       "    </tr>\n",
       "    <tr>\n",
       "      <th>4</th>\n",
       "      <td>0</td>\n",
       "      <td>0</td>\n",
       "      <td>0</td>\n",
       "      <td>TCRF_ARCHIVE_06120018_20220524155501.parquet</td>\n",
       "    </tr>\n",
       "    <tr>\n",
       "      <th>...</th>\n",
       "      <td>...</td>\n",
       "      <td>...</td>\n",
       "      <td>...</td>\n",
       "      <td>...</td>\n",
       "    </tr>\n",
       "    <tr>\n",
       "      <th>14536</th>\n",
       "      <td>0</td>\n",
       "      <td>0</td>\n",
       "      <td>0</td>\n",
       "      <td>TCRF_ARCHIVE_06120018_20230718132109.parquet</td>\n",
       "    </tr>\n",
       "    <tr>\n",
       "      <th>14537</th>\n",
       "      <td>0</td>\n",
       "      <td>0</td>\n",
       "      <td>0</td>\n",
       "      <td>TCRF_ARCHIVE_06120018_20230718132109.parquet</td>\n",
       "    </tr>\n",
       "    <tr>\n",
       "      <th>14538</th>\n",
       "      <td>0</td>\n",
       "      <td>0</td>\n",
       "      <td>0</td>\n",
       "      <td>TCRF_ARCHIVE_06120018_20230718132109.parquet</td>\n",
       "    </tr>\n",
       "    <tr>\n",
       "      <th>14539</th>\n",
       "      <td>0</td>\n",
       "      <td>0</td>\n",
       "      <td>0</td>\n",
       "      <td>TCRF_ARCHIVE_06120018_20230718132109.parquet</td>\n",
       "    </tr>\n",
       "    <tr>\n",
       "      <th>14540</th>\n",
       "      <td>0</td>\n",
       "      <td>0</td>\n",
       "      <td>0</td>\n",
       "      <td>TCRF_ARCHIVE_06120018_20230718132109.parquet</td>\n",
       "    </tr>\n",
       "  </tbody>\n",
       "</table>\n",
       "<p>2833869 rows × 4 columns</p>\n",
       "</div>"
      ],
      "text/plain": [
       "       message0418DAA-1  message0422DAA-1  phaseOfFlight-1   \n",
       "0                     0                 0                0  \\\n",
       "1                     0                 0                0   \n",
       "2                     0                 0                0   \n",
       "3                     0                 0                0   \n",
       "4                     0                 0                0   \n",
       "...                 ...               ...              ...   \n",
       "14536                 0                 0                0   \n",
       "14537                 0                 0                0   \n",
       "14538                 0                 0                0   \n",
       "14539                 0                 0                0   \n",
       "14540                 0                 0                0   \n",
       "\n",
       "                                             flight  \n",
       "0      TCRF_ARCHIVE_06120018_20220524155501.parquet  \n",
       "1      TCRF_ARCHIVE_06120018_20220524155501.parquet  \n",
       "2      TCRF_ARCHIVE_06120018_20220524155501.parquet  \n",
       "3      TCRF_ARCHIVE_06120018_20220524155501.parquet  \n",
       "4      TCRF_ARCHIVE_06120018_20220524155501.parquet  \n",
       "...                                             ...  \n",
       "14536  TCRF_ARCHIVE_06120018_20230718132109.parquet  \n",
       "14537  TCRF_ARCHIVE_06120018_20230718132109.parquet  \n",
       "14538  TCRF_ARCHIVE_06120018_20230718132109.parquet  \n",
       "14539  TCRF_ARCHIVE_06120018_20230718132109.parquet  \n",
       "14540  TCRF_ARCHIVE_06120018_20230718132109.parquet  \n",
       "\n",
       "[2833869 rows x 4 columns]"
      ]
     },
     "execution_count": 26,
     "metadata": {},
     "output_type": "execute_result"
    }
   ],
   "source": [
    "df_falha"
   ]
  },
  {
   "cell_type": "code",
   "execution_count": 57,
   "metadata": {},
   "outputs": [
    {
     "name": "stdout",
     "output_type": "stream",
     "text": [
      "200\n",
      "260\n"
     ]
    }
   ],
   "source": [
    "# Salvar a quantidade de 5 na coluna\n",
    "try:\n",
    "    quantidade_erros_normal_418 = df_normal['message0418DAA-1'].value_counts()[5]\n",
    "except:\n",
    "    quantidade_erros_normal_418 = 0\n",
    "\n",
    "try:\n",
    "    quantidade_erros_normal_422 = df_normal['message0422DAA-1'].value_counts()[5]\n",
    "except:\n",
    "    quantidade_erros_normal_422 = 0\n",
    "    \n",
    "try:\n",
    "    quantidade_erros_falha_418 = df_falha['message0418DAA-1'].value_counts()[5]\n",
    "except:\n",
    "    quantidade_erros_falha_418 = 0\n",
    "\n",
    "try:\n",
    "    quantidade_erros_falha_422 = df_falha['message0422DAA-1'].value_counts()[5]\n",
    "except:\n",
    "    quantidade_erros_falha_422 = 0\n",
    "\n",
    "quantidade_erros_normal_total = quantidade_erros_normal_418 + quantidade_erros_normal_422\n",
    "quantidade_erros_falha_total = quantidade_erros_falha_418 + quantidade_erros_falha_422\n",
    "print(quantidade_erros_normal_total)\n",
    "print(quantidade_erros_falha_total)\n",
    "\n",
    "# quantidade_erros_falha = int(df_falha['message0418DAA-1'].value_counts()[5]) + int(df_falha['message0422DAA-1'].value_counts()[5])\n",
    "# print(quantidade_erros_normal)\n",
    "# print(quantidade_erros_falha)"
   ]
  },
  {
   "cell_type": "code",
   "execution_count": 58,
   "metadata": {},
   "outputs": [
    {
     "name": "stdout",
     "output_type": "stream",
     "text": [
      "271.83859722222223\n",
      "39.359291666666664\n"
     ]
    }
   ],
   "source": [
    "#obter número de linhas do df \n",
    "horas_normal = df_normal.shape[0]/72000\n",
    "horas_falha = df_falha.shape[0]/72000\n",
    "print(horas_normal)\n",
    "print(horas_falha)"
   ]
  },
  {
   "cell_type": "code",
   "execution_count": 60,
   "metadata": {},
   "outputs": [
    {
     "name": "stdout",
     "output_type": "stream",
     "text": [
      "6.605809936874288\n",
      "0.7357306947714429\n"
     ]
    }
   ],
   "source": [
    "print(quantidade_erros_falha_total/horas_falha)\n",
    "print(quantidade_erros_normal_total/horas_normal)"
   ]
  }
 ],
 "metadata": {
  "kernelspec": {
   "display_name": "Python 3",
   "language": "python",
   "name": "python3"
  },
  "language_info": {
   "codemirror_mode": {
    "name": "ipython",
    "version": 3
   },
   "file_extension": ".py",
   "mimetype": "text/x-python",
   "name": "python",
   "nbconvert_exporter": "python",
   "pygments_lexer": "ipython3",
   "version": "3.10.11"
  },
  "orig_nbformat": 4
 },
 "nbformat": 4,
 "nbformat_minor": 2
}
